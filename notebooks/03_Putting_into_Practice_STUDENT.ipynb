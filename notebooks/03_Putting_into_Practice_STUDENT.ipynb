{
 "cells": [
  {
   "cell_type": "markdown",
   "id": "707a3215",
   "metadata": {},
   "source": [
    "# Putting it all into Practice\n",
    "\n",
    "In this final section we'll practice the practical configuration tips that will help you apply property-based testing in the real world.\n",
    "\n",
    "Now that we know how to write property-based tests, in this final section we will cover practical tips for using them as part of a larger project.  Test-suite design patterns, use of performance and determinism settings, reproducing test failures from a CI server, etc; they're all practical topics and typically left out of shorter introductions!"
   ]
  },
  {
   "cell_type": "markdown",
   "id": "b324e2cc",
   "metadata": {},
   "source": [
    "### The joy of `--hypothesis-show-statistics`\n",
    "\n",
    "Hypothesis has [great support for showing test statistics](https://hypothesis.readthedocs.io/en/latest/details.html#test-statistics), including better-than-`print()` debugging with `note()`, custom `event()`s you can add to the summary, and a variety of performance details.\n",
    "\n",
    "Let's explore those now: run `pytest --hypothesis-show-statistics test_statistics.py`.  You should see\n",
    "\n",
    "- a lot of output from `printing`... if you actually want to see every example Hypothesis generates, use the `verbosity` setting instead!  You can even set it from the command-line with `--hypothesis-verbosity=verbose`.\n",
    "- **one** line of output from `note()`\n",
    "- statistics on the generate phase for both tests, and the shrink phase for the failing test.  If you re-run the tests, you'll see a `reuse` phase where notable examples from previous runs are replayed.\n",
    "\n",
    "Useful, isn't it!"
   ]
  },
  {
   "cell_type": "markdown",
   "id": "adca4c12",
   "metadata": {},
   "source": [
    "### Settings for Performance\n",
    "\n",
    "Hypothesis is designed to behave sensibly by default, but sometimes you have something\n",
    "more specific in mind.  At those times, [`hypothesis.settings`](https://hypothesis.readthedocs.io/en/latest/settings.html)\n",
    "is here to help.\n",
    "\n",
    "The main performance-related settings to know are:\n",
    "\n",
    "- `max_examples` - the number of valid examples Hypothesis will run.  Defaults to 100; turning it up or down makes your testing proportionally more or less rigorous... and also proportionally slower or faster, respectively!\n",
    "- `deadline` - if an input takes longer than this to run, we'll treat that as an error.  Useful to detect weird performance issues; but can be flaky if VM performance gets weird."
   ]
  },
  {
   "cell_type": "code",
   "execution_count": null,
   "id": "5bf08d72",
   "metadata": {},
   "outputs": [],
   "source": [
    "from time import sleep\n",
    "from hypothesis import given, settings, strategies as st\n",
    "\n",
    "# TODO: add a settings decorator which reduces max_examples (for speed)\n",
    "#       and increases or disables the deadline so the test passes.\n",
    "\n",
    "@given(st.floats(min_value=0.1, max_value=0.3))\n",
    "def test_really_slow(delay):\n",
    "    sleep(delay)\n",
    "\n",
    "test_really_slow()"
   ]
  },
  {
   "cell_type": "markdown",
   "id": "dca4b17f",
   "metadata": {},
   "source": [
    "### The `phases` setting\n",
    "\n",
    "The phases setting allows you to individually enable or disable [Hypothesis' six phases](https://hypothesis.readthedocs.io/en/latest/settings.html#controlling-what-runs), and has two main uses:\n",
    "\n",
    "- Disabling all but the `explicit` phase, reducing Hypothesis to parametrized tests ([e.g. here](https://github.com/python/cpython/pull/22863))\n",
    "- Enabling the `explain` phase, accepting some overhead to report additional feedback on failures\n",
    "\n",
    "Other use-cases tend to be esoteric, but are supported if you think of one."
   ]
  },
  {
   "cell_type": "code",
   "execution_count": null,
   "id": "adcf6ea9",
   "metadata": {},
   "outputs": [],
   "source": [
    "# See `tests/test_settings.py` for this exercise."
   ]
  },
  {
   "cell_type": "markdown",
   "id": "b4294c16",
   "metadata": {},
   "source": [
    "### Dealing with a PRNG\n",
    "\n",
    "If you have test behaviour that depends on a psudeo-random number generator, and it's not being seeded between inputs, you're going to have some flaky tests.  [`hypothesis.register_random()` to the rescue!](https://hypothesis.readthedocs.io/en/latest/details.html#making-random-code-deterministic)\n",
    "\n",
    "Try running this test a few times - you'll see the `Flaky` error - and then un-comment `hypothesis.register_random(r)`.  Instant determinism!"
   ]
  },
  {
   "cell_type": "code",
   "execution_count": null,
   "id": "fa8003c5",
   "metadata": {},
   "outputs": [],
   "source": [
    "import random\n",
    "import hypothesis\n",
    "from hypothesis.strategies import integers\n",
    "\n",
    "r = random.Random()\n",
    "\n",
    "# hypothesis.register_random(r)\n",
    "\n",
    "@hypothesis.given(integers(0, 100))\n",
    "def test_sometimes_flaky(x):\n",
    "    y = r.randint(0, 100)\n",
    "    assert x <= y\n",
    "\n",
    "test_sometimes_flaky()"
   ]
  },
  {
   "cell_type": "markdown",
   "id": "c872acd8",
   "metadata": {},
   "source": [
    "### `target()`ed property-based testing\n",
    "\n",
    "Random search works well... but [guided search with `hypothesis.target()`](https://hypothesis.readthedocs.io/en/latest/details.html#targeted-example-generation)\n",
    "is even better.  Targeted search can help\n",
    "\n",
    "- find rare bugs ([e.g.](https://github.com/astropy/astropy/pull/10373))\n",
    "- understand bugs, by mitigating [the \"threshold problem\"](https://hypothesis.works/articles/threshold-problem/) (where shrinking makes severe bugs look marginal)"
   ]
  },
  {
   "cell_type": "code",
   "execution_count": null,
   "id": "fed48712",
   "metadata": {},
   "outputs": [],
   "source": [
    "# See `tests/test_settings.py` for this exercise."
   ]
  },
  {
   "cell_type": "markdown",
   "id": "69504e22",
   "metadata": {},
   "source": [
    "### Hooks for external fuzzers\n",
    "\n",
    "If you're on Linux or OSX, you may want to [experiment with external fuzzers](https://hypothesis.readthedocs.io/en/latest/details.html#use-with-external-fuzzers).\n",
    "For example, [here's a fuzz-test for the Black autoformatter](https://github.com/psf/black/blob/3ef339b2e75468a09d617e6aa74bc920c317bce6/fuzz.py#L75-L85)\n",
    "using Atheris as the fuzzing engine.\n",
    "\n",
    "We can mock this up with our own very simple fuzzer:"
   ]
  },
  {
   "cell_type": "code",
   "execution_count": null,
   "id": "3c1b3606",
   "metadata": {},
   "outputs": [],
   "source": [
    "from secrets import token_bytes as get_bytes_from_fuzzer\n",
    "from hypothesis import given, strategies as st\n",
    "\n",
    "\n",
    "@given(st.nothing())\n",
    "def test(_):\n",
    "    pass \n",
    "\n",
    "\n",
    "# And now for the fuzzer:\n",
    "for _ in range(1000):\n",
    "    payload = get_bytes_from_fuzzer(1000)\n",
    "    test.hypothesis.fuzz_one_input(payload)"
   ]
  }
 ],
 "metadata": {
  "kernelspec": {
   "display_name": "Python 3 (ipykernel)",
   "language": "python",
   "name": "python3"
  }
 },
 "nbformat": 4,
 "nbformat_minor": 5
}
