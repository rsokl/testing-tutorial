{
 "cells": [
  {
   "cell_type": "markdown",
   "id": "39dbe94d",
   "metadata": {},
   "source": [
    "# Describing Your Data with Hypothesis"
   ]
  },
  {
   "cell_type": "markdown",
   "id": "66dbcd12",
   "metadata": {},
   "source": [
    "## Useful Links\n",
    "- [Hypothesis' core strategies](https://hypothesis.readthedocs.io/en/latest/data.html)\n",
    "- [The `.map` method](https://hypothesis.readthedocs.io/en/latest/data.html#mapping)\n",
    "- [The `.filter` method](https://hypothesis.readthedocs.io/en/latest/data.html#filtering)\n",
    "- [The `example` decorator](https://hypothesis.readthedocs.io/en/latest/reproducing.html#providing-explicit-examples)\n",
    "- [Using `data()` to draw interactively in tests](https://hypothesis.readthedocs.io/en/latest/data.html#drawing-interactively-in-tests)"
   ]
  },
  {
   "cell_type": "markdown",
   "id": "45b8cffa",
   "metadata": {},
   "source": [
    "## Hypothesis \"Strategies\"\n",
    "\n",
    "As we learned in the previous section, Hypothesis provides us with so-called \"strategies\" for describing our data.\n",
    "These are all located in the `hypothesis.strategies` module. The official documentation for the core strategies can be found [here](https://hypothesis.readthedocs.io/en/latest/data.html).\n",
    "\n",
    "We will import this module under the alias `st` throughout this tutorial:\n",
    "\n",
    "```python\n",
    "import hypothesis.strategies as st\n",
    "```\n",
    "\n",
    "A strategy, once initialized, is an object that Hypothesis will use to generate data for our test. **The `given` decorator is responsible for drawing values from strategies and passing them as inputs to our test.**\n",
    "\n",
    "For example, let's write a toy test for which `x` should be integers between 0 and 10, and `y` should be integers between 20 and 30:"
   ]
  },
  {
   "cell_type": "code",
   "execution_count": null,
   "id": "e3e58847",
   "metadata": {},
   "outputs": [],
   "source": [
    "import hypothesis.strategies as st\n",
    "from hypothesis import given\n",
    "\n",
    "# using `given` with multiple parameters\n",
    "@given(x=st.integers(0, 10), y=st.integers(20, 30))\n",
    "def demonstrating_the_given_decorator(x, y):\n",
    "    assert 0 <= x <= 10\n",
    "    assert 20 <= y <= 30"
   ]
  },
  {
   "cell_type": "markdown",
   "id": "42b8464e",
   "metadata": {},
   "source": [
    "Running the test will prompt Hypothesis to draw 100 random pairs of values for `x` and `y`, according to their respective strategies, and the body of the test will be executed for each such pair:"
   ]
  },
  {
   "cell_type": "code",
   "execution_count": null,
   "id": "43c86fde",
   "metadata": {},
   "outputs": [],
   "source": [
    "demonstrating_the_given_decorator()"
   ]
  },
  {
   "cell_type": "markdown",
   "id": "fbd16a19",
   "metadata": {},
   "source": [
    "Note that it is always advisable to specify the parameters of `given` as keyword arguments, so that the correspondence between our strategies with the function-signature's parameters are manifestly clear."
   ]
  },
  {
   "cell_type": "markdown",
   "id": "6a27517c",
   "metadata": {},
   "source": [
    "<div class=\"alert alert-info\">\n",
    "\n",
    "**Exercise: Describing data with `booleans()`**\n",
    "\n",
    "Write a test that takes in a parameter `x`, that is a boolean value. Use the [`st.booleans()` strategy](https://hypothesis.readthedocs.io/en/latest/data.html#hypothesis.strategies.booleans) to describe the data. In the body of the test, assert that `x` is either `True` or `False`.\n",
    "\n",
    "Note that the `booleans()` strategy shrinks to `False`. \n",
    "    \n",
    "Run your test, and try mutating it to ensure that it can fail appropriately.\n",
    "\n",
    "</div>\n"
   ]
  },
  {
   "cell_type": "code",
   "execution_count": null,
   "id": "6080b7b7",
   "metadata": {},
   "outputs": [],
   "source": [
    "# Write a test that uses the `st.booleans()` strategy\n",
    "# STUDENT CODE HERE"
   ]
  },
  {
   "cell_type": "markdown",
   "id": "12815a0f",
   "metadata": {},
   "source": [
    "### Viewing examples drawn from strategies\n",
    "\n",
    "Hypothesis provides a useful mechanism for developing an intuition for the data produced by a strategy. A strategy, once initialized, has a `.example()` method that will randomly draw a representative value from the strategy. For example:\n",
    "\n",
    "```python\n",
    "# demonstrating usage of `<strategy>.example()`\n",
    ">>> st.integers(-1, 1).example()\n",
    "-1\n",
    "\n",
    ">>> st.booleans()\n",
    "True\n",
    "```\n",
    "\n",
    "**Note: the `.example()` mechanism is only meant to be used for pedagogical purposes. You should never use this in your test suite**\n",
    "because (among other reasons) `.example()` biases towards smaller and simpler examples than `@given`, and lacks the features to ensure any test failures are reproducible."
   ]
  },
  {
   "cell_type": "markdown",
   "id": "84b75a45",
   "metadata": {},
   "source": [
    "<div class=\"alert alert-info\">\n",
    "\n",
    "**Exercise: Write a `print_examples` function**\n",
    "\n",
    "Write a function called `print_examples` that takes in two arguments:\n",
    " - an initialized hypothesis strategy (e.g. `st.integers(0, 10)`)\n",
    " - `n`: the number of examples to print\n",
    " \n",
    " Have it print the strategy (simply call `print` on the strategy) and `n` examples generated from the strategy. Use a for-loop.\n",
    "\n",
    "</div>\n"
   ]
  },
  {
   "cell_type": "code",
   "execution_count": null,
   "id": "0179e00b",
   "metadata": {},
   "outputs": [],
   "source": [
    "# Define the `print_examples` function\n",
    "# STUDENT CODE HERE"
   ]
  },
  {
   "cell_type": "markdown",
   "id": "6b80236a",
   "metadata": {},
   "source": [
    "Print five examples from the `st.integers(...)` strategy, with values ranging from -10 to 10. Then print 10 examples from the `st.booleans()` strategy."
   ]
  },
  {
   "cell_type": "code",
   "execution_count": null,
   "id": "a2564aab",
   "metadata": {},
   "outputs": [],
   "source": [
    "# STUDENT CODE HERE"
   ]
  },
  {
   "cell_type": "code",
   "execution_count": null,
   "id": "d837c77a",
   "metadata": {},
   "outputs": [],
   "source": [
    "# STUDENT CODE HERE"
   ]
  },
  {
   "cell_type": "markdown",
   "id": "9782b681",
   "metadata": {},
   "source": [
    "### The `.map` method\n",
    "\n",
    "Hypothesis strategies have the `.map` method, which permits us to perform a mapping on the data being produced by a strategy. For example, if we want to draw only even-valued integers, we can simply use the following mapped strategy:\n",
    "\n",
    "```python\n",
    "# we can apply mappings to strategies\n",
    "even_integers = st.integers().map(lambda x: 2 * x)\n",
    "```\n",
    "(`.map` can be passed any callable, it need not be a lambda)"
   ]
  },
  {
   "cell_type": "markdown",
   "id": "6d925752",
   "metadata": {},
   "source": [
    "<div class=\"alert alert-info\">\n",
    "\n",
    "**Exercise: Understanding the `.map` method**\n",
    "\n",
    "Write a test that uses the afore-defined `even_integers` strategy to generate data. The body of the test should assert that the input to the test is indeed an even-valued integer. \n",
    "\n",
    "Run your test (and try adding a bad assertion to make sure that the test can actually fail!)\n",
    "\n",
    "</div>\n"
   ]
  },
  {
   "cell_type": "code",
   "execution_count": null,
   "id": "5a1af5b6",
   "metadata": {},
   "outputs": [],
   "source": [
    "# write the test for `even_integers`\n",
    "\n",
    "# STUDENT CODE HERE"
   ]
  },
  {
   "cell_type": "markdown",
   "id": "d87c9d07",
   "metadata": {},
   "source": [
    "<div class=\"alert alert-info\">\n",
    "\n",
    "**Exercise: Getting creative with the `.map` method**\n",
    "\n",
    "Construct a Hypothesis strategy that produces either the string `\"cat\"` or the string `\"dog\"`.\n",
    "Write it so that the strategy shrinks to `\"dog\"`.\n",
    "\n",
    "Then write a test that checks the property of this strategy and run it\n",
    "\n",
    "</div>\n",
    "\n"
   ]
  },
  {
   "cell_type": "code",
   "execution_count": null,
   "id": "07c0b34f",
   "metadata": {},
   "outputs": [],
   "source": [
    "# Write the cat-or-dog strategy\n",
    "# STUDENT CODE HERE"
   ]
  },
  {
   "cell_type": "markdown",
   "id": "011ff8a5",
   "metadata": {},
   "source": [
    "### The `.filter` method\n",
    "\n",
    "Hypothesis strategies can also have their data filtered via the `.filter` method. `.filter` takes a callable that accepts as input the data generated by the strategy, and returns:\n",
    " - `True` if the data should pass through the filter\n",
    " - `False` if the data should be rejected by the filter\n",
    "\n",
    "Consider, for instance, that you want to generate all integers other than `0`. You can write the filtered strategy:\n",
    "\n",
    "```python\n",
    "non_zero_integers = st.integers().filter(lambda x: x != 0)\n",
    "```"
   ]
  },
  {
   "cell_type": "markdown",
   "id": "b9939680",
   "metadata": {},
   "source": [
    "<div class=\"alert alert-info\">\n",
    "\n",
    "**Exercise: Understanding the `.filter` method**\n",
    "\n",
    "Write a test that uses the afore-defined `non_zero_integers` strategy to generate data. The body of the test should assert that the input to the test is indeed a nonzero integer. \n",
    "\n",
    "Run your test (and make sure that it can fail!)\n",
    "\n",
    "</div>\n"
   ]
  },
  {
   "cell_type": "code",
   "execution_count": null,
   "id": "3af321af",
   "metadata": {},
   "outputs": [],
   "source": [
    "# Write the test for `non_zero_integers`\n",
    "# STUDENT CODE HERE"
   ]
  },
  {
   "cell_type": "markdown",
   "id": "491d9253",
   "metadata": {},
   "source": [
    "The `.filter` method is not magic. Hypothesis will raise an error if your strategy rejects too many values. "
   ]
  },
  {
   "cell_type": "markdown",
   "id": "ecfe9d2a",
   "metadata": {},
   "source": [
    "<div class=\"alert alert-info\">\n",
    "\n",
    "**Exercise: The `.filter` method is not magic**\n",
    "\n",
    "Write a strategy that applies a filter to `st.floats(allow_nan=False)` such that it only generates values on the domain `[10, 20]`.\n",
    "Then write and run a test that that uses data from this strategy.\n",
    "\n",
    "What is the name of the error that Hypothesis raises? How would you rewrite this strategy instead of using `.filter`?\n",
    "\n",
    "</div>\n"
   ]
  },
  {
   "cell_type": "code",
   "execution_count": null,
   "id": "59307893",
   "metadata": {},
   "outputs": [],
   "source": [
    "# STUDENT CODE HERE"
   ]
  },
  {
   "cell_type": "markdown",
   "id": "1f30b76e",
   "metadata": {},
   "source": [
    "## The `example` Decorator\n",
    "\n",
    "As mentioned before, Hypothesis strategies will draw values (pseudo)*randomly*.\n",
    "Thus our test will potentially encounter different values every time it is run.\n",
    "There are times where we want to be sure that, in addition the values produced by a strategy, specific values will tested. \n",
    "These might be known edge cases, critical use cases, or regression cases (i.e. values that were representative of passed bugs).\n",
    "Hypothesis provides [the `example` decorator](https://hypothesis.readthedocs.io/en/latest/reproducing.html#providing-explicit-examples), which is to be used in conjunction with the `given` decorator, towards this end.\n",
    "\n",
    "Let's suppose, for example, that we want to write a test whose data are pairs of perfect-squares (e.g. 4, 16, 25, ...), and that we want to be sure that the pairs `(100, 144)`, `(16, 25)`, and `(36, 36)` are tested *every* time the test is run. \n",
    "Let's use `example` to guarantee this."
   ]
  },
  {
   "cell_type": "code",
   "execution_count": null,
   "id": "e8277b23",
   "metadata": {},
   "outputs": [],
   "source": [
    "from hypothesis import example\n",
    "\n",
    "perfect_squares = st.integers().map(lambda x: x ** 2)\n",
    "\n",
    "\n",
    "def is_square(x):\n",
    "    return int(x ** 0.5) == x ** 0.5\n",
    "\n",
    "\n",
    "@example(a=36, b=36)\n",
    "@example(a=16, b=25)\n",
    "@example(a=100, b=144)\n",
    "@given(a=perfect_squares, b=perfect_squares)\n",
    "def test_pairs_of_squares(a, b):\n",
    "    assert is_square(a)\n",
    "    assert is_square(b)\n",
    "\n",
    "\n",
    "test_pairs_of_squares()"
   ]
  },
  {
   "cell_type": "markdown",
   "id": "d553cde8",
   "metadata": {},
   "source": [
    "Executing this test runs 103 cases: the three specified examples and one hundred pairs of values drawn via `given`."
   ]
  },
  {
   "cell_type": "markdown",
   "id": "000fd5f3",
   "metadata": {},
   "source": [
    "## Exploring Strategies\n",
    "\n",
    "There are a number critical Hypothesis strategies for us to become familiar with. It is worthwhile to peruse through all of Hypothesis' [core strategies](https://hypothesis.readthedocs.io/en/latest/data.html#core-strategies), but we will take time to highlight a few here.\n",
    "\n",
    "### [`st.lists ()`](https://hypothesis.readthedocs.io/en/latest/data.html#hypothesis.strategies.lists)\n",
    "\n",
    "[`st.lists`](https://hypothesis.readthedocs.io/en/latest/data.html#hypothesis.strategies.lists) accepts *another* strategy, which describes the elements of the lists being generated. You can also specify:\n",
    " - bounds on the length of the list\n",
    " - if we want the elements to be unique\n",
    " - a mechanism for defining \"uniqueness\"\n",
    " \n",
    "**`st.lists(...)` is the strategy of choice anytime we want to generate sequences of varying lengths with elements that are, themselves, described by strategies**. Recall that we can always apply the `.map` method if we want a different type of collection (e.g. a `tuple`) other than a list.\n",
    "\n",
    "This strategy shrinks towards smaller lists with simpler values.\n",
    "\n",
    "Use `print_examples` to build an intuition for this strategy."
   ]
  },
  {
   "cell_type": "markdown",
   "id": "7e12fe79",
   "metadata": {},
   "source": [
    "<div class=\"alert alert-info\">\n",
    "\n",
    "**Exercise: Describing data with `st.lists`**\n",
    "\n",
    "Write a strategy that generates unique **tuples** of even-valued integers, ranging from length-5 to length-10. \n",
    "\n",
    "Write a test that checks these properties.\n",
    "\n",
    "</div>\n"
   ]
  },
  {
   "cell_type": "code",
   "execution_count": null,
   "id": "678bb405",
   "metadata": {},
   "outputs": [],
   "source": [
    "# STUDENT CODE HERE"
   ]
  },
  {
   "cell_type": "markdown",
   "id": "e8d19447",
   "metadata": {},
   "source": [
    "### [`st.floats()`](https://hypothesis.readthedocs.io/en/latest/data.html#hypothesis.strategies.floats)\n",
    "\n",
    "[`st.floats`](https://hypothesis.readthedocs.io/en/latest/data.html#hypothesis.strategies.floats) is a powerful strategy that generates all variety of floats, including `math.inf` and `math.nan`. You can also specify:\n",
    " - whether `math.inf` and `math.nan`, respectively, should be included in the data description\n",
    " - bounds (either inclusive or exclusive) on the floats being generated; this will naturally preclude `math.nan` from being generated\n",
    " - the \"width\" of the floats; e.g. if you want to generate 16-bit or 32-bit floats vs 64-bit\n",
    "   (while Python `float`s are always 64-bit, `width=32` ensures that the generated values can\n",
    "   always be losslessly represented in 32 bits.  This is mostly useful for Numpy arrays.)\n",
    "\n",
    "This strategy shrinks towards 0."
   ]
  },
  {
   "cell_type": "markdown",
   "id": "494bcab7",
   "metadata": {},
   "source": [
    "<div class=\"alert alert-info\">\n",
    "\n",
    "**Exercise: Using Hypothesis to learn about floats.. Part 1**\n",
    "\n",
    "Use the `st.floats` strategy to identify which float(s) violate the identity: `x == x`\n",
    "\n",
    "Then, revise your usage of `st.floats` such that it only describes values that satisfy the identity. \n",
    "</div>\n"
   ]
  },
  {
   "cell_type": "code",
   "execution_count": null,
   "id": "7cf68d41",
   "metadata": {},
   "outputs": [],
   "source": [
    "# using `st.floats` to find value(s) that violate `x == x`\n",
    "# STUDENT CODE HERE"
   ]
  },
  {
   "cell_type": "code",
   "execution_count": null,
   "id": "98d6e424",
   "metadata": {},
   "outputs": [],
   "source": [
    "# updating our usage of `st.floats` to generate only values that satisfy `x == x`\n",
    "# STUDENT CODE HERE"
   ]
  },
  {
   "cell_type": "markdown",
   "id": "bdaa4087",
   "metadata": {},
   "source": [
    "<div class=\"alert alert-info\">\n",
    "\n",
    "**Exercise: Using Hypothesis to learn about floats.. Part 2**\n",
    "\n",
    "Use the `st.floats` strategy to identify which **positive** float(s) violate the inequality: `x < x + 1`.\n",
    "\n",
    "To interpret your findings, it is useful to know that a double-precision (64-bit) binary floating-point number, which is representative of Pythons `float`, has a coefficient of 53 bits (including 1 implied bit), an exponent of 11 bits, and 1 sign bit. \n",
    "\n",
    "\n",
    "Then, revise your usage of `st.floats` such that it only describes values that satisfy the identity. **Use the `example` decorator to ensure that the identified boundary case is tested every time**.\n",
    "</div>\n"
   ]
  },
  {
   "cell_type": "code",
   "execution_count": null,
   "id": "dda8973c",
   "metadata": {},
   "outputs": [],
   "source": [
    "# using `st.floats` to find value(s) that violate `x < x + 1`\n",
    "# STUDENT CODE HERE"
   ]
  },
  {
   "cell_type": "code",
   "execution_count": null,
   "id": "5a06dde9",
   "metadata": {},
   "outputs": [],
   "source": [
    "# updating our usage of `st.floats` to generate only values that satisfy `x < x + 1`\n",
    "# STUDENT CODE HERE"
   ]
  },
  {
   "cell_type": "markdown",
   "id": "5e729d63",
   "metadata": {},
   "source": [
    "### [`st.tuples()`](https://hypothesis.readthedocs.io/en/latest/data.html#hypothesis.strategies.tuples)\n",
    "\n",
    "The [st.tuples](https://hypothesis.readthedocs.io/en/latest/data.html#hypothesis.strategies.tuples) strategy accepts $N$ Hypothesis strategies, and will generate length-$N$ tuples whose elements are drawn from the respective strategies that were specified as inputs.\n",
    "\n",
    "This strategy shrinks towards simpler entries.\n",
    "\n",
    "For example, the following strategy will generate length-3 tuples whose entries are: even-valued integers, booleans, and odd-valued floats:"
   ]
  },
  {
   "cell_type": "code",
   "execution_count": null,
   "id": "59b5879a",
   "metadata": {},
   "outputs": [],
   "source": [
    "my_tuples = st.tuples(\n",
    "    st.integers().map(lambda x: 2 * x),\n",
    "    st.booleans(),\n",
    "    st.integers().map(lambda x: 2 * x + 1).map(float),\n",
    ")\n",
    "print_examples(my_tuples, 4)"
   ]
  },
  {
   "cell_type": "markdown",
   "id": "af3aff3b",
   "metadata": {},
   "source": [
    "### [`st.just()`](https://hypothesis.readthedocs.io/en/latest/data.html#hypothesis.strategies.just)\n",
    "\n",
    "[st.just](https://hypothesis.readthedocs.io/en/latest/data.html#hypothesis.strategies.just) is a strategy that \"just\" returns the value that you fed it. This is a convenient strategy that helps us to avoid abusing the use of `.map` to concoct particular strategies."
   ]
  },
  {
   "cell_type": "markdown",
   "id": "30eaefdc",
   "metadata": {},
   "source": [
    "<div class=\"alert alert-info\">\n",
    "\n",
    "**Exercise: Describing the shape of an array of 2D vectors**\n",
    "\n",
    "Write a strategy that describes the shape of an array (i.e. a tuple of integers) that contains 1-to-20 two-dimensional vectors.\n",
    "E.g. `(5, 2)` is the shape of the array containing five two-dimensional vectors.\n",
    "Avoid using `.map()` in your solution.    \n",
    "\n",
    "    \n",
    "Use `print_examples` to examine the outputs.\n",
    "</div>\n"
   ]
  },
  {
   "cell_type": "code",
   "execution_count": null,
   "id": "40a84597",
   "metadata": {},
   "outputs": [],
   "source": [
    "# STUDENT CODE HERE"
   ]
  },
  {
   "cell_type": "markdown",
   "id": "84a20b49",
   "metadata": {},
   "source": [
    "### [`st.one_of()`](https://hypothesis.readthedocs.io/en/latest/data.html#hypothesis.strategies.one_of)\n",
    "\n",
    "The `st.one_of` allows us to specify a collection of strategies and any given datum will be drawn from \"one of\" them. E.g.\n",
    "\n",
    "```python\n",
    "# demonstrating st.one_of()\n",
    "st.one_of(st.integers(), st.lists(st.integers()))\n",
    "```\n",
    "\n",
    "will draw values that are either integers or list of integers. "
   ]
  },
  {
   "cell_type": "markdown",
   "id": "d689087f",
   "metadata": {},
   "source": [
    "Note that the \"pipe\" operator is overloaded by Hypothesis strategies as a shorthand for `one_of`; e.g.\n",
    "\n",
    "```python\n",
    "st.integers() | st.floats() | st.booleans()\n",
    "```\n",
    "\n",
    "is equivalent to:\n",
    "\n",
    "\n",
    "```python\n",
    "st.one_of(st.integers(), st.floats(), st.booleans())\n",
    "```\n",
    "\n",
    "This strategy shrinks with preference for the left-most strategy."
   ]
  },
  {
   "cell_type": "markdown",
   "id": "64238d23",
   "metadata": {},
   "source": [
    "<div class=\"alert alert-info\">\n",
    "\n",
    "**Exercise: Stitching together strategies for rich behavior**\n",
    "\n",
    "Write a strategy that draws a tuple of two perfect squares (integers) or three perfect cubes (integers)\n",
    "\n",
    "Use `print_examples` to examine the behavior of your strategy.\n",
    "</div>\n"
   ]
  },
  {
   "cell_type": "code",
   "execution_count": null,
   "id": "7db1f5ae",
   "metadata": {},
   "outputs": [],
   "source": [
    "# STUDENT CODE HERE"
   ]
  },
  {
   "cell_type": "markdown",
   "id": "483197e0",
   "metadata": {},
   "source": [
    "### [`st.text()`](https://hypothesis.readthedocs.io/en/latest/data.html#hypothesis.strategies.text)\n",
    "\n",
    "\n",
    "The `st.text` accepts an \"alphabet\" – a collection of string-characters – from which it will construct strings of varying lengths, whose bounds can be specified by the user.\n",
    "This strategy shrinks towards shorter strings.\n",
    "\n",
    "For example, the following strategy will strings of lowercase vowels from length 2 to length 10:\n",
    "\n",
    "```python\n",
    ">>> st.text(\"aeiouy\", min_size=2, max_size=10).example()\n",
    "'oouoyoye'\n",
    "```"
   ]
  },
  {
   "cell_type": "markdown",
   "id": "eb415540",
   "metadata": {},
   "source": [
    "### [`st.fixed_dictionaries()`](https://hypothesis.readthedocs.io/en/latest/data.html#hypothesis.strategies.fixed_dictionaries)\n",
    "\n",
    "`st.fixed_dictionaries` takes a mapping of the form `key -> strategy` and returns a strategy according to that mapping. E.g.\n",
    "\n",
    "```python\n",
    "# demonstrating st.fixed_dictionaries()\n",
    ">>> mapping = dict(age=st.integers(0, 89), height=st.floats(3, 7)\n",
    ">>> st.fixed_dictionaries(mapping).example()\n",
    "{'age': 7, 'height': 3.5}\n",
    "```\n",
    "\n",
    "will draw values that are either integers or list of integers. \n",
    "\n",
    "This strategy shrinks towards simpler keys and values."
   ]
  },
  {
   "cell_type": "markdown",
   "id": "0aa924a1",
   "metadata": {},
   "source": [
    "### [`st.sampled_from`](https://hypothesis.readthedocs.io/en/latest/data.html#hypothesis.strategies.sampled_from)\n",
    "\n",
    "[`st.sampled_from`](https://hypothesis.readthedocs.io/en/latest/data.html#hypothesis.strategies.sampled_from) accepts a collection of objects. The strategy will return a value that is sampled from this collection.\n",
    "\n",
    "For example, the following strategy will sample a value `0`, `\"a\"`, or `(2, 2)` from a list:\n",
    "\n",
    "```python\n",
    ">>> st.sampled_from([0, \"a\", (2, 2)]).example()\n",
    "'a'\n",
    "```\n",
    "\n",
    "This strategy shrinks towards the first element among the samples."
   ]
  },
  {
   "cell_type": "markdown",
   "id": "3d50597d",
   "metadata": {},
   "source": [
    "<div class=\"alert alert-info\">\n",
    "\n",
    "**Exercise: Describing objects that evaluate to `False`**\n",
    "\n",
    "Write a strategy that can return the boolean, integer, float, string, list, tuple, or dictionary that evaluates to `False` (when called on by `bool`)\n",
    "\n",
    "Use `print_examples` to examine the behavior of your strategy.\n",
    "</div>\n"
   ]
  },
  {
   "cell_type": "code",
   "execution_count": null,
   "id": "fe1df5a4",
   "metadata": {},
   "outputs": [],
   "source": [
    "# STUDENT CODE HERE"
   ]
  },
  {
   "cell_type": "markdown",
   "id": "370fa20d",
   "metadata": {},
   "source": [
    "### [`st.from_type()`](https://hypothesis.readthedocs.io/en/latest/data.html#hypothesis.strategies.from_type)\n",
    "\n",
    "`st.from_type` looks up a strategy associated with a given type or type-annotation\n",
    "\n",
    "```python\n",
    ">>> st.from_type(int)\n",
    "integers()\n",
    "\n",
    ">>> from typing import List, Dict\n",
    ">>> st.from_type(List[int])\n",
    "lists(integers())\n",
    "\n",
    ">>> st.from_type(Dict[str, float])\n",
    "dictionaries(keys=text(), values=floats())\n",
    "```\n",
    "\n",
    "You can use `st.register_type_strategy` to add or override type -> strategy mappings used by `st.from_type`:\n",
    "\n",
    "```python\n",
    "import math\n",
    "\n",
    "class ComplexUnitCircle(complex): \n",
    "    pass\n",
    "\n",
    "st.register_type_strategy(\n",
    "    ComplexUnitCircle,\n",
    "    st.floats(0, 2 * math.pi).map(lambda x: math.cos(x) + 1j * math.sin(x)),\n",
    ")\n",
    "```\n",
    "\n",
    "```python\n",
    ">>> st.from_type(ComplexUnitCircle).example()\n",
    "(0.7599735905063035-0.6499539535482165j)\n",
    "```\n",
    "\n",
    "`...` (i.e. the `Ellipsis` object) can be used within `@given` to indicate that an argument's values should be inferred from the annotation from the test's signature.\n",
    "For example:\n",
    "\n",
    "```python\n",
    "@given(x=...) # uses `from_type(ComplexUnitCircle)`\n",
    "def test_with_infer(x: ComplexUnitCircle):\n",
    "    assert isinstance(x, complex)\n",
    "    assert math.isclose(abs(x), 1)\n",
    "```"
   ]
  },
  {
   "cell_type": "markdown",
   "id": "1f24b40b",
   "metadata": {},
   "source": [
    "### [`st.builds()`](https://hypothesis.readthedocs.io/en/latest/data.html#hypothesis.strategies.builds)\n",
    "\n",
    "`st.builds` is will \"build\" (call/instantiate) some target callable. `builds` is capable of inferring strategies based on the target's annotated signature (it uses `st.from_type` to do so), otherwise we can explicitly specify arguments for it to use. \n",
    "\n",
    "```python\n",
    "# Defining a target for `st.builds`\n",
    "from dataclasses import dataclass\n",
    "\n",
    "@dataclass\n",
    "class C:\n",
    "    x: int\n",
    "    y: str\n",
    "```\n",
    "\n",
    "`builds` can either infer strategies to use, based on `C`'s type annotations:\n",
    "\n",
    "```python\n",
    ">>> st.builds(C).example()  # infers x->`st.integers()`, y->`st.text()`\n",
    "C(x=57, y='\\U00108b39W\\U000a55f5ÈwC\\U0009db0a')\n",
    "```\n",
    "\n",
    "or we can explicitly specify one or more of the strategies for describing the target's parameters\n",
    "\n",
    "```python\n",
    ">>> st.builds(C, x=st.just(-1111)).example()\n",
    "C(x=-1111, y='A')\n",
    "```"
   ]
  },
  {
   "cell_type": "markdown",
   "id": "b38c80ca",
   "metadata": {},
   "source": [
    "<div class=\"alert alert-info\">\n",
    "\n",
    "**Exercise: Registering a Strategy for a Type**\n",
    "\n",
    "Given the following type\n",
    "    \n",
    "```python\n",
    "from dataclasses import dataclass\n",
    "\n",
    "@dataclass\n",
    "class Student:\n",
    "    age: int\n",
    "    letter_grade: str\n",
    "```\n",
    "\n",
    "register a Hypothesis strategy in association with it (via `register_type_strategy`) that draws ages from the domain `[10, 18]` and letter grades from A-F (no pluses or minuses).\n",
    "Next, write a test that draws a \"class of students\" (i.e. `List[Student]`), and use `hypothesis.infer` so that you don't have to write the strategy by-hand.\n",
    "In the body of the test, simply print the values generated to describe the class of students.\n",
    "</div>\n"
   ]
  },
  {
   "cell_type": "code",
   "execution_count": null,
   "id": "d248c922",
   "metadata": {},
   "outputs": [],
   "source": [
    "# STUDENT CODE HERE"
   ]
  },
  {
   "cell_type": "markdown",
   "id": "9acb7eeb",
   "metadata": {},
   "source": [
    "<div class=\"alert alert-info\">\n",
    "\n",
    "**Exercise: Exploring additional strategies**\n",
    "\n",
    "Consult [Hypothesis' documentation](https://hypothesis.readthedocs.io/en/latest/data.html) \n",
    "</div>\n"
   ]
  },
  {
   "cell_type": "markdown",
   "id": "7b231b84",
   "metadata": {},
   "source": [
    "## Drawing From Strategies Within a Test\n",
    "\n",
    "We will often need to draw from a Hypothesis strategy in a context-dependent manner within our test. Suppose, for example, that we want to describe two lists of integers, but we want to be sure that the second list is longer than the first. [We can use the `st.data()` strategy to use strategies \"interactively\"](https://hypothesis.readthedocs.io/en/latest/data.html#drawing-interactively-in-tests) in this sort of way.\n",
    "\n",
    "Let's see it in action:"
   ]
  },
  {
   "cell_type": "code",
   "execution_count": null,
   "id": "8e07d31c",
   "metadata": {},
   "outputs": [],
   "source": [
    "# We want two lists of integers, `x` and `y`, where we want `y` to be longer than `x`.\n",
    "\n",
    "@given(x=st.lists(st.integers()), data=st.data())\n",
    "def test_two_constrained_lists(x, data: st.DataObject):\n",
    "    y = data.draw(st.lists(st.integers(), min_size=len(x) + 1), label=\"y\")\n",
    "\n",
    "    assert len(x) < len(y)\n",
    "\n",
    "\n",
    "test_two_constrained_lists()"
   ]
  },
  {
   "cell_type": "markdown",
   "id": "10d67153",
   "metadata": {},
   "source": [
    "The `given` operator is told to pass two things to our test: \n",
    "\n",
    " - `x`, which is a list of integers drawn from strategies\n",
    " - `data`, which is an instance of the `st.DataObject` class; this instance is what gets drawn from the `st.data()` strategy\n",
    "\n",
    "The only thing that you need to know about `st.DataObject` is that it's `draw` method expects a hypothesis search strategy, and that it will immediately draw a value from said strategy during the test. You can also, optionally, pass a string to  `label` argument to the `draw` method. This simply permits you to provide a name for the item that was drawn, so that any stack-trace that your test produces is easy to interpret."
   ]
  },
  {
   "cell_type": "markdown",
   "id": "9e4a28bc",
   "metadata": {},
   "source": [
    "<div class=\"alert alert-info\">\n",
    "\n",
    "**Exercise: Drawing from a strategy interactively**\n",
    "\n",
    "Write a test that is fed a list (of varying length) of non-negative integers. Then, draw a **set** (i.e. a unique collection) of non-negative integers whose sum is at least as large as the sum of the list.\n",
    "The strategy [`st.sets`](https://hypothesis.readthedocs.io/en/latest/data.html#hypothesis.strategies.sets) will be useful for this.\n",
    "\n",
    "</div>\n"
   ]
  },
  {
   "cell_type": "code",
   "execution_count": null,
   "id": "8367d5c2",
   "metadata": {},
   "outputs": [],
   "source": [
    "# STUDENT CODE HERE"
   ]
  },
  {
   "cell_type": "markdown",
   "id": "0dc1a1ed",
   "metadata": {},
   "source": [
    "### `.flatmap`\n",
    "\n",
    "`flatmap` is a method enables us to define a strategy based on a value drawn from a previous strategy.\n",
    "\n",
    "For example, the following strategy produces lists of integers where each list is guaranteed to have a length that is a perfect square (e.g. a length of 0, 1, 4, 16, 25, ...)"
   ]
  },
  {
   "cell_type": "code",
   "execution_count": null,
   "id": "40376b13",
   "metadata": {},
   "outputs": [],
   "source": [
    "perfect_squares = st.integers(min_value=0, max_value=6).map(lambda x: x ** 2)\n",
    "\n",
    "sqr_len_lists = perfect_squares.flatmap(\n",
    "    lambda x: st.lists(st.integers(), min_size=x, max_size=x)\n",
    ")"
   ]
  },
  {
   "cell_type": "markdown",
   "id": "3a84f99d",
   "metadata": {},
   "source": [
    "## Writing Your Own Hypothesis Strategies with @composite\n",
    "\n",
    "Hypothesis provides the [@composite](https://hypothesis.readthedocs.io/en/latest/data.html#hypothesis.strategies.composite) decorator, which permits us to form our own strategies for describing data by composing Hypothesis' built-in strategies. Let's see this in action by writing a strategy that will produce the bounds for a 1D interval."
   ]
  },
  {
   "cell_type": "code",
   "execution_count": null,
   "id": "fe3df0c6",
   "metadata": {},
   "outputs": [],
   "source": [
    "from typing import Any, Callable, Optional, Tuple\n",
    "from hypothesis.strategies import composite\n",
    "import hypothesis.strategies as st\n",
    "from math import inf\n",
    "\n",
    "\n",
    "@composite\n",
    "def interval_bounds(draw, left_bnd=-inf, right_bnd=inf, min_size=0.0):\n",
    "    \"\"\"A Hypothesis data strategy for generating ordered bounds on the real number line.\n",
    "    \n",
    "    Note: The `draw` parameter it reserved by Hypothesis and is not exposed by\n",
    "    the function signature.\n",
    "    \n",
    "    Parameters\n",
    "    ----------\n",
    "    left_bnd : float, optional (default=-inf)\n",
    "        If specified, the smallest value that the left-bound can take on.\n",
    "    \n",
    "    right_bnd : float, optional (default=inf)\n",
    "        If specified, the largest value that the right-bound can take on.\n",
    "    \n",
    "    min_size : float, optional (default=0.0)\n",
    "        The guaranteed minimum separateion of the bounds.\n",
    "    \n",
    "    Returns\n",
    "    -------\n",
    "    st.SearchStrategy[Tuple[float, float]]\n",
    "    \"\"\"\n",
    "    if right_bnd < left_bnd + min_size:\n",
    "        raise ValueError(\n",
    "            f\"Unsatisfiable bounds: [left_bnd={left_bnd}, right_bnd={right_bnd}], \"\n",
    "            f\"min-interval size: {min_size}\"\n",
    "        )\n",
    "\n",
    "    # `drawn_left` is a float\n",
    "    drawn_left = draw(\n",
    "        st.floats(\n",
    "            min_value=left_bnd,\n",
    "            max_value=(None if right_bnd is None else right_bnd - min_size),\n",
    "            allow_nan=False,\n",
    "        )\n",
    "    )\n",
    "\n",
    "    # `drawn_right` is a float\n",
    "    drawn_right = draw(\n",
    "        st.floats(min_value=drawn_left + min_size, max_value=right_bnd, allow_nan=False)\n",
    "    )\n",
    "\n",
    "    # ensure that strategy behaves as-promised\n",
    "    assert left_bnd <= drawn_left <= right_bnd\n",
    "    assert left_bnd <= drawn_right <= right_bnd\n",
    "    assert drawn_left + min_size <= drawn_right\n",
    "\n",
    "    # Note that a composite strategy definition should return the drawn values,\n",
    "    # and *not* Hypothesis strategies.\n",
    "    #\n",
    "    # E.g. here we return a tuple of floating point numbers, and\n",
    "    # *not* `st.tuples(st.floats(), st.floats())`\n",
    "    return (drawn_left, drawn_right)"
   ]
  },
  {
   "cell_type": "markdown",
   "id": "fc8d3c49",
   "metadata": {},
   "source": [
    "The first argument, `draw`, is required by the `@composite` decorator. It is a function that is used by Hypothesis to draw values from strategies in order to generate data from our composite strategy. Each draw simply produces a value from that strategy. Thus `drawn_left` and `drawn_right` are simply floating point numbers. We then simply return a tuple of these floats, as expected from this strategy.\n",
    "\n",
    "Note that, even though the resulting function `interval_bounds()` is a Hypothesis search strategy, the return statement in its definition *specifies what values are to be returned*. It does *not* return strategy-instances.\n",
    "\n",
    "As mentioned in the docstring, the `draw` parameter is not actually exposed in the function signature of `interval_bounds`, once defined. Print the docstring for `interval_bounds` and see that the `draw` parameter is absent from the signature:"
   ]
  },
  {
   "cell_type": "markdown",
   "id": "e17fde55",
   "metadata": {},
   "source": [
    "Experiment with this strategy and see that it behaves as-expected. Start by calling `.example()` on it. Be sure to provide different arguments to the strategy."
   ]
  },
  {
   "cell_type": "code",
   "execution_count": null,
   "id": "fa6d3a00",
   "metadata": {},
   "outputs": [],
   "source": [
    "print(f\"interval_bounds().example(): {interval_bounds().example()}\")\n",
    "print(f\"interval_bounds(-1, 2, min_size=1).example(): {interval_bounds(-1, 2, min_size=1).example()}\")"
   ]
  },
  {
   "cell_type": "markdown",
   "id": "22d7b8d1",
   "metadata": {},
   "source": [
    "Lastly, note the presence of the assertions within the composite strategies.\n",
    "We will presumably be using this strategy to describe data for tests. Writing a buggy strategy - one that generates incorrect or unexpected data - is a terrible thing; this will, at best lead, to a headache. At worst, it mask bugs in the code that we are testing. \n",
    "\n",
    "**If there is ever a time to be fastidious with type/value checking and correctness assertions, it is at the interfaces of a custom Hypothesis strategy!**\n",
    "It is also sensible to write tests for your strategies if they are sufficiently sophisticated."
   ]
  },
  {
   "cell_type": "markdown",
   "id": "9614533b",
   "metadata": {},
   "source": [
    "<div class=\"alert alert-info\">\n",
    "\n",
    "**Exercise: Write a \"quadrilateral corners\" strategy**\n",
    "\n",
    "Use the `@composite` decorator to write the `quad_corners` strategy. Here is the docstring for this strategy:\n",
    "\n",
    "```python\n",
    "\"\"\"\n",
    "A Hypothesis strategy for four corners of a quadrilateral.\n",
    "\n",
    "The corners are guaranteed to have counter-clockwise (\"right-handed\") ordering.\n",
    "\n",
    "Parameters\n",
    "----------\n",
    "corner_magnitude : float, optional (default=1e6)\n",
    "    The maximum size - in magnitude - that any of the coordinates\n",
    "    can take on.\n",
    "\n",
    "min_separation : float, optional (default=1e-2)\n",
    "    The smallest guaranteed margin between two consecutive corners along a\n",
    "    single dimension.\n",
    "\n",
    "Returns\n",
    "-------\n",
    "SearchStrategy[np.ndarray]\n",
    "   shape-(4, 2) array of four ordered pairs (float-64)\n",
    "\"\"\"\n",
    "```\n",
    "\n",
    "</div>\n",
    "\n",
    "Feel free to work with a neighbor on this. How general is your strategy?\n",
    "Did you bake in any underlying assumptions about the structure or ordering of the data that isn't explicitly part of the strategy's description?\n",
    "\n",
    "If you do sport some unintentional structure to the data you are generating, and which you need to randomize, *do not reach for the `random` module to mix things up*.\n",
    "Rather, find a Hypothesis strategy that can do the stirring for you.\n",
    "\n",
    "While Hypothesis does track/control random seeds so that it can replay tests accurately, it will not be able to shrink your custom strategy effectively if you seek randomness from outside of Hypothesis' strategies."
   ]
  },
  {
   "cell_type": "code",
   "execution_count": null,
   "id": "d5b1f29c",
   "metadata": {},
   "outputs": [],
   "source": [
    "# Define the `quad_corners` strategy\n",
    "# STUDENT CODE HERE"
   ]
  },
  {
   "cell_type": "markdown",
   "id": "0d9a19f5",
   "metadata": {},
   "source": [
    "## Extra: Recipes with Strategies\n",
    "\n",
    "It can be surprising to see some of the rich descriptions of data that we can produce by combining these primitive strategies in creative ways.\n",
    "\n",
    "Here is one interesting recipe\n",
    "\n",
    "```python\n",
    "from typing import Any, Tuple, Type, Union\n",
    "\n",
    "def everything_except(\n",
    "    excluded_types: Union[Type[type], Tuple[Type[type], ...]]\n",
    ") -> st.SearchStrategy[Any]:\n",
    "    return (\n",
    "        st.from_type(type)\n",
    "        .flatmap(st.from_type)\n",
    "        .filter(lambda x: not isinstance(x, excluded_types))\n",
    "    )\n",
    "```\n",
    "\n",
    "This strategy will draw values from *any* strategy associated with *any* type that has been registered with `st.register_type_strategy()`, except for values that belong to `excluded_types`.\n",
    "\n",
    "```python\n",
    ">>> [everything_except(int).example() for _ in range(5)]\n",
    "00:00:00\n",
    "<memory at 0x000002815A491940>\n",
    "None\n",
    "set()\n",
    "2183-03-08\n",
    "```\n",
    "\n",
    "How does this work? `st.from_type(type)` returns a strategy that draws *types* (e.g. `int`, `str`).\n",
    "Then this type gets fed to `st.from_type(...)` via `.flatmap`, and thus a strategy is returned for drawing instances of that type.\n",
    "Lastly, we filter any values that belong to the excluded type.\n",
    "This is a pretty neat strategy for testing the strength of your code's input validation!\n",
    "\n",
    "Another interesting takeaway from this recipe is the fact that you don't necessarily need to use `st.composite` to write your own strategy!\n",
    "Here we simply wrote a function that returns our specific strategy."
   ]
  }
 ],
 "metadata": {
  "kernelspec": {
   "display_name": "Python 3 (ipykernel)",
   "language": "python",
   "name": "python3"
  }
 },
 "nbformat": 4,
 "nbformat_minor": 5
}
